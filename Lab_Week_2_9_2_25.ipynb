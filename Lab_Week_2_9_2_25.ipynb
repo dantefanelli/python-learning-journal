{
  "cells": [
    {
      "cell_type": "markdown",
      "metadata": {
        "id": "M2Qfs30cDMkB"
      },
      "source": [
        "To have the coversion number be read out on the same line you needed to make a another special variable with the formula for the conversion then put the variable into the sentence\n",
        "\n",
        "At first I was trying to print the  conversion in text for the final answer I just tried to put the equation into the text but I needed a variable first to define it"
      ]
    },
    {
      "cell_type": "markdown",
      "metadata": {
        "id": "6JGnROc6RARD"
      },
      "source": [
        "learned kilometer to mile and cesius to fahrenheit formula from google, learned binary to decimal formula from chatgpt"
      ]
    },
    {
      "cell_type": "code",
      "execution_count": null,
      "metadata": {
        "colab": {
          "base_uri": "https://localhost:8080/"
        },
        "id": "2CSK9lfm89vE",
        "outputId": "57e2f3d4-57e9-4c42-f728-6929c8c6f737"
      },
      "outputs": [
        {
          "name": "stdout",
          "output_type": "stream",
          "text": [
            "The equivalet from kilometer to mile is 12.42742\n",
            "The equivalet from cesius to fahrenheit is 68.0\n",
            "The equivalent from binary to decimal is 360\n"
          ]
        }
      ],
      "source": [
        "kilometer = 20\n",
        "mileconversion = 0.621371\n",
        "conversion = (kilometer * mileconversion)\n",
        "print(\"The equivalet from kilometer to mile is\", conversion)\n",
        "\n",
        "\n",
        "\n",
        "cesius = 20\n",
        "multiplycelsius = 1.8\n",
        "fahremheit = (cesius * multiplycelsius) + 32\n",
        "print(\"The equivalet from cesius to fahrenheit is\", fahremheit)\n",
        "\n",
        "\n",
        "\n",
        "Binarynumber = 101101000\n",
        "formula = (1*2**8) + (0*2**7) + (1*2**6) + (1*2**5) + (0*2**4) + (1*2**3) + (0*2**2) + (0*2**1) + (0*2**0)\n",
        "print(\"The equivalent from binary to decimal is\", formula)\n",
        "\n",
        "\n",
        "\n",
        "\n",
        "\n",
        "\n",
        "\n"
      ]
    }
  ],
  "metadata": {
    "colab": {
      "provenance": []
    },
    "kernelspec": {
      "display_name": "Python 3",
      "name": "python3"
    },
    "language_info": {
      "name": "python"
    }
  },
  "nbformat": 4,
  "nbformat_minor": 0
}
